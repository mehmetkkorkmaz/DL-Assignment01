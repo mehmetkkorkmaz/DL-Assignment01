{
  "cells": [
    {
      "cell_type": "markdown",
      "metadata": {
        "id": "Mli0haeplmlC"
      },
      "source": [
        "___\n",
        "\n",
        "<p style=\"text-align: center;\"><img src=\"https://docs.google.com/uc?id=1lY0Uj5R04yMY3-ZppPWxqCr5pvBLYPnV\" class=\"img-fluid\" alt=\"CLRSWY\"></p>\n",
        "\n",
        "___"
      ]
    },
    {
      "cell_type": "markdown",
      "metadata": {
        "id": "CqqmT2F6lmlE"
      },
      "source": [
        "<h1 style=\"text-align: center;\">Deep Learning<br><br>Assignment-1 (ANN)<br><br>Churn Prediction for Bank Customer<br><h1>"
      ]
    },
    {
      "cell_type": "markdown",
      "metadata": {
        "id": "i4DmbMYRlmlE"
      },
      "source": [
        "# Dataset Info"
      ]
    },
    {
      "cell_type": "markdown",
      "metadata": {
        "id": "VDOCJb-slmlF"
      },
      "source": [
        "We have a dataset in which there are details of a bank's customers and the target variable is a binary variable reflecting the fact whether the customer left the bank (closed his account) or he continues to be a customer.\n",
        "\n",
        "The features in the given dataset are:\n",
        "- **rownumber:** Row Numbers from 1 to 10000.\n",
        "- **customerid:** A unique ID that identifies each customer.\n",
        "- **surname:** The customer’s surname.\n",
        "- **creditscore:** A credit score is a number between 300–850 that depicts a consumer's creditworthiness.\n",
        "- **geography:** The country from which the customer belongs to.\n",
        "- **Gender:** The customer’s gender: Male, Female\n",
        "- **Age:** The customer’s current age, in years, at the time of being customer.\n",
        "- **tenure:** The number of years for which the customer has been with the bank.\n",
        "- **balance:** Bank balance of the customer.\n",
        "- **numofproducts:** the number of bank products the customer is utilising.\n",
        "- **hascrcard:** The number of credit cards given to the customer by the bank.\n",
        "- **isactivemember:** Binary Flag for indicating if the client is active or not with the bank before the moment where the client exits the company (recorded in the variable \"exited\")\n",
        "- **exited:** Binary flag 1 if the customer closed account with bank and 0 if the customer is retained."
      ]
    },
    {
      "cell_type": "markdown",
      "metadata": {
        "id": "HgGcDT7tlmlF"
      },
      "source": [
        "# Improt Libraries & Data"
      ]
    },
    {
      "cell_type": "code",
      "execution_count": 10,
      "metadata": {
        "id": "FObiszjblmlF"
      },
      "outputs": [],
      "source": [
        "import numpy as np\n",
        "import tensorflow as tf\n",
        "import pandas as pd"
      ]
    },
    {
      "cell_type": "code",
      "execution_count": 11,
      "metadata": {
        "id": "zXMkBDZwlmlF"
      },
      "outputs": [],
      "source": [
        "import tensorflow"
      ]
    },
    {
      "cell_type": "code",
      "source": [
        "df = pd.read_csv('Churn_Modelling.csv')\n"
      ],
      "metadata": {
        "id": "d_Qltlifm56x"
      },
      "execution_count": 12,
      "outputs": []
    },
    {
      "cell_type": "code",
      "source": [
        "#from google.colab import drive\n",
        "#drive.mount('/content/drive')"
      ],
      "metadata": {
        "id": "hRrFMFesbmEt"
      },
      "execution_count": 13,
      "outputs": []
    },
    {
      "cell_type": "markdown",
      "metadata": {
        "id": "0nn7TECYlmlG"
      },
      "source": [
        "# Exploratory Data Analysis and Visualization"
      ]
    },
    {
      "cell_type": "markdown",
      "metadata": {
        "id": "n9LH-zCrlmlG"
      },
      "source": [
        "1. Implement basic steps to see how is your data looks like\n",
        "2. Check for missing values\n",
        "3. Drop the features that not suitable for modelling\n",
        "4. Implement basic visualization steps such as histogram, countplot, heatmap\n",
        "5. Convert categorical variables to dummy variables"
      ]
    },
    {
      "cell_type": "code",
      "source": [
        "df.head()"
      ],
      "metadata": {
        "colab": {
          "base_uri": "https://localhost:8080/",
          "height": 270
        },
        "id": "xN_digBK54gA",
        "outputId": "abd2e81b-0777-44b2-f920-34aec8e6ecdb"
      },
      "execution_count": 14,
      "outputs": [
        {
          "output_type": "execute_result",
          "data": {
            "text/plain": [
              "   RowNumber  CustomerId   Surname  CreditScore Geography  Gender  Age  \\\n",
              "0          1    15634602  Hargrave          619    France  Female   42   \n",
              "1          2    15647311      Hill          608     Spain  Female   41   \n",
              "2          3    15619304      Onio          502    France  Female   42   \n",
              "3          4    15701354      Boni          699    France  Female   39   \n",
              "4          5    15737888  Mitchell          850     Spain  Female   43   \n",
              "\n",
              "   Tenure    Balance  NumOfProducts  HasCrCard  IsActiveMember  \\\n",
              "0       2       0.00              1          1               1   \n",
              "1       1   83807.86              1          0               1   \n",
              "2       8  159660.80              3          1               0   \n",
              "3       1       0.00              2          0               0   \n",
              "4       2  125510.82              1          1               1   \n",
              "\n",
              "   EstimatedSalary  Exited  \n",
              "0        101348.88       1  \n",
              "1        112542.58       0  \n",
              "2        113931.57       1  \n",
              "3         93826.63       0  \n",
              "4         79084.10       0  "
            ],
            "text/html": [
              "\n",
              "  <div id=\"df-28f9230b-7b3e-47b4-8657-3c17171b4d46\">\n",
              "    <div class=\"colab-df-container\">\n",
              "      <div>\n",
              "<style scoped>\n",
              "    .dataframe tbody tr th:only-of-type {\n",
              "        vertical-align: middle;\n",
              "    }\n",
              "\n",
              "    .dataframe tbody tr th {\n",
              "        vertical-align: top;\n",
              "    }\n",
              "\n",
              "    .dataframe thead th {\n",
              "        text-align: right;\n",
              "    }\n",
              "</style>\n",
              "<table border=\"1\" class=\"dataframe\">\n",
              "  <thead>\n",
              "    <tr style=\"text-align: right;\">\n",
              "      <th></th>\n",
              "      <th>RowNumber</th>\n",
              "      <th>CustomerId</th>\n",
              "      <th>Surname</th>\n",
              "      <th>CreditScore</th>\n",
              "      <th>Geography</th>\n",
              "      <th>Gender</th>\n",
              "      <th>Age</th>\n",
              "      <th>Tenure</th>\n",
              "      <th>Balance</th>\n",
              "      <th>NumOfProducts</th>\n",
              "      <th>HasCrCard</th>\n",
              "      <th>IsActiveMember</th>\n",
              "      <th>EstimatedSalary</th>\n",
              "      <th>Exited</th>\n",
              "    </tr>\n",
              "  </thead>\n",
              "  <tbody>\n",
              "    <tr>\n",
              "      <th>0</th>\n",
              "      <td>1</td>\n",
              "      <td>15634602</td>\n",
              "      <td>Hargrave</td>\n",
              "      <td>619</td>\n",
              "      <td>France</td>\n",
              "      <td>Female</td>\n",
              "      <td>42</td>\n",
              "      <td>2</td>\n",
              "      <td>0.00</td>\n",
              "      <td>1</td>\n",
              "      <td>1</td>\n",
              "      <td>1</td>\n",
              "      <td>101348.88</td>\n",
              "      <td>1</td>\n",
              "    </tr>\n",
              "    <tr>\n",
              "      <th>1</th>\n",
              "      <td>2</td>\n",
              "      <td>15647311</td>\n",
              "      <td>Hill</td>\n",
              "      <td>608</td>\n",
              "      <td>Spain</td>\n",
              "      <td>Female</td>\n",
              "      <td>41</td>\n",
              "      <td>1</td>\n",
              "      <td>83807.86</td>\n",
              "      <td>1</td>\n",
              "      <td>0</td>\n",
              "      <td>1</td>\n",
              "      <td>112542.58</td>\n",
              "      <td>0</td>\n",
              "    </tr>\n",
              "    <tr>\n",
              "      <th>2</th>\n",
              "      <td>3</td>\n",
              "      <td>15619304</td>\n",
              "      <td>Onio</td>\n",
              "      <td>502</td>\n",
              "      <td>France</td>\n",
              "      <td>Female</td>\n",
              "      <td>42</td>\n",
              "      <td>8</td>\n",
              "      <td>159660.80</td>\n",
              "      <td>3</td>\n",
              "      <td>1</td>\n",
              "      <td>0</td>\n",
              "      <td>113931.57</td>\n",
              "      <td>1</td>\n",
              "    </tr>\n",
              "    <tr>\n",
              "      <th>3</th>\n",
              "      <td>4</td>\n",
              "      <td>15701354</td>\n",
              "      <td>Boni</td>\n",
              "      <td>699</td>\n",
              "      <td>France</td>\n",
              "      <td>Female</td>\n",
              "      <td>39</td>\n",
              "      <td>1</td>\n",
              "      <td>0.00</td>\n",
              "      <td>2</td>\n",
              "      <td>0</td>\n",
              "      <td>0</td>\n",
              "      <td>93826.63</td>\n",
              "      <td>0</td>\n",
              "    </tr>\n",
              "    <tr>\n",
              "      <th>4</th>\n",
              "      <td>5</td>\n",
              "      <td>15737888</td>\n",
              "      <td>Mitchell</td>\n",
              "      <td>850</td>\n",
              "      <td>Spain</td>\n",
              "      <td>Female</td>\n",
              "      <td>43</td>\n",
              "      <td>2</td>\n",
              "      <td>125510.82</td>\n",
              "      <td>1</td>\n",
              "      <td>1</td>\n",
              "      <td>1</td>\n",
              "      <td>79084.10</td>\n",
              "      <td>0</td>\n",
              "    </tr>\n",
              "  </tbody>\n",
              "</table>\n",
              "</div>\n",
              "      <button class=\"colab-df-convert\" onclick=\"convertToInteractive('df-28f9230b-7b3e-47b4-8657-3c17171b4d46')\"\n",
              "              title=\"Convert this dataframe to an interactive table.\"\n",
              "              style=\"display:none;\">\n",
              "        \n",
              "  <svg xmlns=\"http://www.w3.org/2000/svg\" height=\"24px\"viewBox=\"0 0 24 24\"\n",
              "       width=\"24px\">\n",
              "    <path d=\"M0 0h24v24H0V0z\" fill=\"none\"/>\n",
              "    <path d=\"M18.56 5.44l.94 2.06.94-2.06 2.06-.94-2.06-.94-.94-2.06-.94 2.06-2.06.94zm-11 1L8.5 8.5l.94-2.06 2.06-.94-2.06-.94L8.5 2.5l-.94 2.06-2.06.94zm10 10l.94 2.06.94-2.06 2.06-.94-2.06-.94-.94-2.06-.94 2.06-2.06.94z\"/><path d=\"M17.41 7.96l-1.37-1.37c-.4-.4-.92-.59-1.43-.59-.52 0-1.04.2-1.43.59L10.3 9.45l-7.72 7.72c-.78.78-.78 2.05 0 2.83L4 21.41c.39.39.9.59 1.41.59.51 0 1.02-.2 1.41-.59l7.78-7.78 2.81-2.81c.8-.78.8-2.07 0-2.86zM5.41 20L4 18.59l7.72-7.72 1.47 1.35L5.41 20z\"/>\n",
              "  </svg>\n",
              "      </button>\n",
              "      \n",
              "  <style>\n",
              "    .colab-df-container {\n",
              "      display:flex;\n",
              "      flex-wrap:wrap;\n",
              "      gap: 12px;\n",
              "    }\n",
              "\n",
              "    .colab-df-convert {\n",
              "      background-color: #E8F0FE;\n",
              "      border: none;\n",
              "      border-radius: 50%;\n",
              "      cursor: pointer;\n",
              "      display: none;\n",
              "      fill: #1967D2;\n",
              "      height: 32px;\n",
              "      padding: 0 0 0 0;\n",
              "      width: 32px;\n",
              "    }\n",
              "\n",
              "    .colab-df-convert:hover {\n",
              "      background-color: #E2EBFA;\n",
              "      box-shadow: 0px 1px 2px rgba(60, 64, 67, 0.3), 0px 1px 3px 1px rgba(60, 64, 67, 0.15);\n",
              "      fill: #174EA6;\n",
              "    }\n",
              "\n",
              "    [theme=dark] .colab-df-convert {\n",
              "      background-color: #3B4455;\n",
              "      fill: #D2E3FC;\n",
              "    }\n",
              "\n",
              "    [theme=dark] .colab-df-convert:hover {\n",
              "      background-color: #434B5C;\n",
              "      box-shadow: 0px 1px 3px 1px rgba(0, 0, 0, 0.15);\n",
              "      filter: drop-shadow(0px 1px 2px rgba(0, 0, 0, 0.3));\n",
              "      fill: #FFFFFF;\n",
              "    }\n",
              "  </style>\n",
              "\n",
              "      <script>\n",
              "        const buttonEl =\n",
              "          document.querySelector('#df-28f9230b-7b3e-47b4-8657-3c17171b4d46 button.colab-df-convert');\n",
              "        buttonEl.style.display =\n",
              "          google.colab.kernel.accessAllowed ? 'block' : 'none';\n",
              "\n",
              "        async function convertToInteractive(key) {\n",
              "          const element = document.querySelector('#df-28f9230b-7b3e-47b4-8657-3c17171b4d46');\n",
              "          const dataTable =\n",
              "            await google.colab.kernel.invokeFunction('convertToInteractive',\n",
              "                                                     [key], {});\n",
              "          if (!dataTable) return;\n",
              "\n",
              "          const docLinkHtml = 'Like what you see? Visit the ' +\n",
              "            '<a target=\"_blank\" href=https://colab.research.google.com/notebooks/data_table.ipynb>data table notebook</a>'\n",
              "            + ' to learn more about interactive tables.';\n",
              "          element.innerHTML = '';\n",
              "          dataTable['output_type'] = 'display_data';\n",
              "          await google.colab.output.renderOutput(dataTable, element);\n",
              "          const docLink = document.createElement('div');\n",
              "          docLink.innerHTML = docLinkHtml;\n",
              "          element.appendChild(docLink);\n",
              "        }\n",
              "      </script>\n",
              "    </div>\n",
              "  </div>\n",
              "  "
            ]
          },
          "metadata": {},
          "execution_count": 14
        }
      ]
    },
    {
      "cell_type": "code",
      "source": [
        "df.dtypes"
      ],
      "metadata": {
        "colab": {
          "base_uri": "https://localhost:8080/"
        },
        "id": "kL9ljuv_6MFM",
        "outputId": "f7e527db-2856-47b3-c05e-688528010bd3"
      },
      "execution_count": 15,
      "outputs": [
        {
          "output_type": "execute_result",
          "data": {
            "text/plain": [
              "RowNumber            int64\n",
              "CustomerId           int64\n",
              "Surname             object\n",
              "CreditScore          int64\n",
              "Geography           object\n",
              "Gender              object\n",
              "Age                  int64\n",
              "Tenure               int64\n",
              "Balance            float64\n",
              "NumOfProducts        int64\n",
              "HasCrCard            int64\n",
              "IsActiveMember       int64\n",
              "EstimatedSalary    float64\n",
              "Exited               int64\n",
              "dtype: object"
            ]
          },
          "metadata": {},
          "execution_count": 15
        }
      ]
    },
    {
      "cell_type": "code",
      "source": [
        "import matplotlib.pyplot as plt\n",
        "import seaborn as sns\n",
        "%matplotlib inline"
      ],
      "metadata": {
        "id": "XuqjJKDv6XPm"
      },
      "execution_count": 16,
      "outputs": []
    },
    {
      "cell_type": "code",
      "source": [
        "plt.figure(figsize=(6,7))\n",
        "sns.countplot(x='Exited', data=df)\n",
        "plt.xlabel('0: Customers staying with the bank, 1: Customers exited the bank')\n",
        "plt.ylabel('Count')\n",
        "plt.title('Bank Customers Churn')\n",
        "plt.show();"
      ],
      "metadata": {
        "id": "TAqPLC-Y6XfF",
        "colab": {
          "base_uri": "https://localhost:8080/",
          "height": 458
        },
        "outputId": "964b7bc8-9bc9-458b-dac3-5a6d2d44adfb"
      },
      "execution_count": 17,
      "outputs": [
        {
          "output_type": "display_data",
          "data": {
            "text/plain": [
              "<Figure size 432x504 with 1 Axes>"
            ],
            "image/png": "[encoded data removed]"
          },
          "metadata": {
            "needs_background": "light"
          }
        }
      ]
    },
    {
      "cell_type": "code",
      "source": [
        "df.isna().any()"
      ],
      "metadata": {
        "id": "36Sy1k6L6Xqo",
        "colab": {
          "base_uri": "https://localhost:8080/"
        },
        "outputId": "34f622f8-79f2-4da5-d088-9470e69f3c74"
      },
      "execution_count": 18,
      "outputs": [
        {
          "output_type": "execute_result",
          "data": {
            "text/plain": [
              "RowNumber          False\n",
              "CustomerId         False\n",
              "Surname            False\n",
              "CreditScore        False\n",
              "Geography          False\n",
              "Gender             False\n",
              "Age                False\n",
              "Tenure             False\n",
              "Balance            False\n",
              "NumOfProducts      False\n",
              "HasCrCard          False\n",
              "IsActiveMember     False\n",
              "EstimatedSalary    False\n",
              "Exited             False\n",
              "dtype: bool"
            ]
          },
          "metadata": {},
          "execution_count": 18
        }
      ]
    },
    {
      "cell_type": "code",
      "source": [
        "df.drop(['RowNumber','CustomerId','Surname'], axis=1, inplace=True)\n",
        "df.columns"
      ],
      "metadata": {
        "colab": {
          "base_uri": "https://localhost:8080/"
        },
        "id": "jne6PDDA6X15",
        "outputId": "8ff47efb-1391-4422-86ce-8a417b8e9ab0"
      },
      "execution_count": 19,
      "outputs": [
        {
          "output_type": "execute_result",
          "data": {
            "text/plain": [
              "Index(['CreditScore', 'Geography', 'Gender', 'Age', 'Tenure', 'Balance',\n",
              "       'NumOfProducts', 'HasCrCard', 'IsActiveMember', 'EstimatedSalary',\n",
              "       'Exited'],\n",
              "      dtype='object')"
            ]
          },
          "metadata": {},
          "execution_count": 19
        }
      ]
    },
    {
      "cell_type": "code",
      "source": [
        "geo = pd.get_dummies(df['Geography'], drop_first=True)\n",
        "gender = pd.get_dummies(df['Gender'], drop_first=True)"
      ],
      "metadata": {
        "id": "jQDLUWPj7Uxu"
      },
      "execution_count": 20,
      "outputs": []
    },
    {
      "cell_type": "code",
      "source": [
        "df = pd.concat([df, geo, gender], axis=1)\n",
        "df.columns"
      ],
      "metadata": {
        "colab": {
          "base_uri": "https://localhost:8080/"
        },
        "id": "lIxg3W3s6YBe",
        "outputId": "74a6d921-980b-47e5-e6cd-1c6a8fc9b598"
      },
      "execution_count": 21,
      "outputs": [
        {
          "output_type": "execute_result",
          "data": {
            "text/plain": [
              "Index(['CreditScore', 'Geography', 'Gender', 'Age', 'Tenure', 'Balance',\n",
              "       'NumOfProducts', 'HasCrCard', 'IsActiveMember', 'EstimatedSalary',\n",
              "       'Exited', 'Germany', 'Spain', 'Male'],\n",
              "      dtype='object')"
            ]
          },
          "metadata": {},
          "execution_count": 21
        }
      ]
    },
    {
      "cell_type": "code",
      "source": [
        "df.drop(['Geography', 'Gender'], axis=1, inplace=True)"
      ],
      "metadata": {
        "id": "xSv8yOQ17u9P"
      },
      "execution_count": 22,
      "outputs": []
    },
    {
      "cell_type": "code",
      "source": [
        "df.head()"
      ],
      "metadata": {
        "colab": {
          "base_uri": "https://localhost:8080/",
          "height": 270
        },
        "id": "LMA_jHVz7y5E",
        "outputId": "d8e47486-729a-48e0-949e-98419e3a64e9"
      },
      "execution_count": 23,
      "outputs": [
        {
          "output_type": "execute_result",
          "data": {
            "text/plain": [
              "   CreditScore  Age  Tenure    Balance  NumOfProducts  HasCrCard  \\\n",
              "0          619   42       2       0.00              1          1   \n",
              "1          608   41       1   83807.86              1          0   \n",
              "2          502   42       8  159660.80              3          1   \n",
              "3          699   39       1       0.00              2          0   \n",
              "4          850   43       2  125510.82              1          1   \n",
              "\n",
              "   IsActiveMember  EstimatedSalary  Exited  Germany  Spain  Male  \n",
              "0               1        101348.88       1        0      0     0  \n",
              "1               1        112542.58       0        0      1     0  \n",
              "2               0        113931.57       1        0      0     0  \n",
              "3               0         93826.63       0        0      0     0  \n",
              "4               1         79084.10       0        0      1     0  "
            ],
            "text/html": [
              "\n",
              "  <div id=\"df-e1b41fb0-ab69-46d8-a80e-0bc99ac5d8e8\">\n",
              "    <div class=\"colab-df-container\">\n",
              "      <div>\n",
              "<style scoped>\n",
              "    .dataframe tbody tr th:only-of-type {\n",
              "        vertical-align: middle;\n",
              "    }\n",
              "\n",
              "    .dataframe tbody tr th {\n",
              "        vertical-align: top;\n",
              "    }\n",
              "\n",
              "    .dataframe thead th {\n",
              "        text-align: right;\n",
              "    }\n",
              "</style>\n",
              "<table border=\"1\" class=\"dataframe\">\n",
              "  <thead>\n",
              "    <tr style=\"text-align: right;\">\n",
              "      <th></th>\n",
              "      <th>CreditScore</th>\n",
              "      <th>Age</th>\n",
              "      <th>Tenure</th>\n",
              "      <th>Balance</th>\n",
              "      <th>NumOfProducts</th>\n",
              "      <th>HasCrCard</th>\n",
              "      <th>IsActiveMember</th>\n",
              "      <th>EstimatedSalary</th>\n",
              "      <th>Exited</th>\n",
              "      <th>Germany</th>\n",
              "      <th>Spain</th>\n",
              "      <th>Male</th>\n",
              "    </tr>\n",
              "  </thead>\n",
              "  <tbody>\n",
              "    <tr>\n",
              "      <th>0</th>\n",
              "      <td>619</td>\n",
              "      <td>42</td>\n",
              "      <td>2</td>\n",
              "      <td>0.00</td>\n",
              "      <td>1</td>\n",
              "      <td>1</td>\n",
              "      <td>1</td>\n",
              "      <td>101348.88</td>\n",
              "      <td>1</td>\n",
              "      <td>0</td>\n",
              "      <td>0</td>\n",
              "      <td>0</td>\n",
              "    </tr>\n",
              "    <tr>\n",
              "      <th>1</th>\n",
              "      <td>608</td>\n",
              "      <td>41</td>\n",
              "      <td>1</td>\n",
              "      <td>83807.86</td>\n",
              "      <td>1</td>\n",
              "      <td>0</td>\n",
              "      <td>1</td>\n",
              "      <td>112542.58</td>\n",
              "      <td>0</td>\n",
              "      <td>0</td>\n",
              "      <td>1</td>\n",
              "      <td>0</td>\n",
              "    </tr>\n",
              "    <tr>\n",
              "      <th>2</th>\n",
              "      <td>502</td>\n",
              "      <td>42</td>\n",
              "      <td>8</td>\n",
              "      <td>159660.80</td>\n",
              "      <td>3</td>\n",
              "      <td>1</td>\n",
              "      <td>0</td>\n",
              "      <td>113931.57</td>\n",
              "      <td>1</td>\n",
              "      <td>0</td>\n",
              "      <td>0</td>\n",
              "      <td>0</td>\n",
              "    </tr>\n",
              "    <tr>\n",
              "      <th>3</th>\n",
              "      <td>699</td>\n",
              "      <td>39</td>\n",
              "      <td>1</td>\n",
              "      <td>0.00</td>\n",
              "      <td>2</td>\n",
              "      <td>0</td>\n",
              "      <td>0</td>\n",
              "      <td>93826.63</td>\n",
              "      <td>0</td>\n",
              "      <td>0</td>\n",
              "      <td>0</td>\n",
              "      <td>0</td>\n",
              "    </tr>\n",
              "    <tr>\n",
              "      <th>4</th>\n",
              "      <td>850</td>\n",
              "      <td>43</td>\n",
              "      <td>2</td>\n",
              "      <td>125510.82</td>\n",
              "      <td>1</td>\n",
              "      <td>1</td>\n",
              "      <td>1</td>\n",
              "      <td>79084.10</td>\n",
              "      <td>0</td>\n",
              "      <td>0</td>\n",
              "      <td>1</td>\n",
              "      <td>0</td>\n",
              "    </tr>\n",
              "  </tbody>\n",
              "</table>\n",
              "</div>\n",
              "      <button class=\"colab-df-convert\" onclick=\"convertToInteractive('df-e1b41fb0-ab69-46d8-a80e-0bc99ac5d8e8')\"\n",
              "              title=\"Convert this dataframe to an interactive table.\"\n",
              "              style=\"display:none;\">\n",
              "        \n",
              "  <svg xmlns=\"http://www.w3.org/2000/svg\" height=\"24px\"viewBox=\"0 0 24 24\"\n",
              "       width=\"24px\">\n",
              "    <path d=\"M0 0h24v24H0V0z\" fill=\"none\"/>\n",
              "    <path d=\"M18.56 5.44l.94 2.06.94-2.06 2.06-.94-2.06-.94-.94-2.06-.94 2.06-2.06.94zm-11 1L8.5 8.5l.94-2.06 2.06-.94-2.06-.94L8.5 2.5l-.94 2.06-2.06.94zm10 10l.94 2.06.94-2.06 2.06-.94-2.06-.94-.94-2.06-.94 2.06-2.06.94z\"/><path d=\"M17.41 7.96l-1.37-1.37c-.4-.4-.92-.59-1.43-.59-.52 0-1.04.2-1.43.59L10.3 9.45l-7.72 7.72c-.78.78-.78 2.05 0 2.83L4 21.41c.39.39.9.59 1.41.59.51 0 1.02-.2 1.41-.59l7.78-7.78 2.81-2.81c.8-.78.8-2.07 0-2.86zM5.41 20L4 18.59l7.72-7.72 1.47 1.35L5.41 20z\"/>\n",
              "  </svg>\n",
              "      </button>\n",
              "      \n",
              "  <style>\n",
              "    .colab-df-container {\n",
              "      display:flex;\n",
              "      flex-wrap:wrap;\n",
              "      gap: 12px;\n",
              "    }\n",
              "\n",
              "    .colab-df-convert {\n",
              "      background-color: #E8F0FE;\n",
              "      border: none;\n",
              "      border-radius: 50%;\n",
              "      cursor: pointer;\n",
              "      display: none;\n",
              "      fill: #1967D2;\n",
              "      height: 32px;\n",
              "      padding: 0 0 0 0;\n",
              "      width: 32px;\n",
              "    }\n",
              "\n",
              "    .colab-df-convert:hover {\n",
              "      background-color: #E2EBFA;\n",
              "      box-shadow: 0px 1px 2px rgba(60, 64, 67, 0.3), 0px 1px 3px 1px rgba(60, 64, 67, 0.15);\n",
              "      fill: #174EA6;\n",
              "    }\n",
              "\n",
              "    [theme=dark] .colab-df-convert {\n",
              "      background-color: #3B4455;\n",
              "      fill: #D2E3FC;\n",
              "    }\n",
              "\n",
              "    [theme=dark] .colab-df-convert:hover {\n",
              "      background-color: #434B5C;\n",
              "      box-shadow: 0px 1px 3px 1px rgba(0, 0, 0, 0.15);\n",
              "      filter: drop-shadow(0px 1px 2px rgba(0, 0, 0, 0.3));\n",
              "      fill: #FFFFFF;\n",
              "    }\n",
              "  </style>\n",
              "\n",
              "      <script>\n",
              "        const buttonEl =\n",
              "          document.querySelector('#df-e1b41fb0-ab69-46d8-a80e-0bc99ac5d8e8 button.colab-df-convert');\n",
              "        buttonEl.style.display =\n",
              "          google.colab.kernel.accessAllowed ? 'block' : 'none';\n",
              "\n",
              "        async function convertToInteractive(key) {\n",
              "          const element = document.querySelector('#df-e1b41fb0-ab69-46d8-a80e-0bc99ac5d8e8');\n",
              "          const dataTable =\n",
              "            await google.colab.kernel.invokeFunction('convertToInteractive',\n",
              "                                                     [key], {});\n",
              "          if (!dataTable) return;\n",
              "\n",
              "          const docLinkHtml = 'Like what you see? Visit the ' +\n",
              "            '<a target=\"_blank\" href=https://colab.research.google.com/notebooks/data_table.ipynb>data table notebook</a>'\n",
              "            + ' to learn more about interactive tables.';\n",
              "          element.innerHTML = '';\n",
              "          dataTable['output_type'] = 'display_data';\n",
              "          await google.colab.output.renderOutput(dataTable, element);\n",
              "          const docLink = document.createElement('div');\n",
              "          docLink.innerHTML = docLinkHtml;\n",
              "          element.appendChild(docLink);\n",
              "        }\n",
              "      </script>\n",
              "    </div>\n",
              "  </div>\n",
              "  "
            ]
          },
          "metadata": {},
          "execution_count": 23
        }
      ]
    },
    {
      "cell_type": "code",
      "source": [
        "X = df.drop('Exited', axis=1)\n",
        "y = df['Exited']\n"
      ],
      "metadata": {
        "id": "aKzVREwum8yR"
      },
      "execution_count": 24,
      "outputs": []
    },
    {
      "cell_type": "markdown",
      "metadata": {
        "id": "qeFpHKwelmlG"
      },
      "source": [
        "# Preprocessing of Data\n",
        "- Train | Test Split, Scalling"
      ]
    },
    {
      "cell_type": "code",
      "source": [
        "from sklearn.model_selection import train_test_split\n",
        "X_train, X_test, y_train, y_test = train_test_split(X, y, test_size=0.20, random_state=0)\n",
        "print('X_train size: {}, X_test size: {}'.format(X_train.shape, X_test.shape))"
      ],
      "metadata": {
        "colab": {
          "base_uri": "https://localhost:8080/"
        },
        "id": "x5t8-6De5OKv",
        "outputId": "77988989-2c80-4931-cdc0-ee2f7e1b1ef9"
      },
      "execution_count": 25,
      "outputs": [
        {
          "output_type": "stream",
          "name": "stdout",
          "text": [
            "X_train size: (8000, 11), X_test size: (2000, 11)\n"
          ]
        }
      ]
    },
    {
      "cell_type": "code",
      "source": [],
      "metadata": {
        "id": "vTKvF88v7Itd"
      },
      "execution_count": 25,
      "outputs": []
    },
    {
      "cell_type": "code",
      "source": [
        "from sklearn.preprocessing import StandardScaler\n",
        "sc = StandardScaler()\n",
        "X_train = sc.fit_transform(X_train)\n",
        "X_test = sc.transform(X_test)"
      ],
      "metadata": {
        "id": "-6V7kO8bRL8Z",
        "execution": {
          "iopub.status.busy": "2021-05-29T13:30:02.869985Z",
          "iopub.execute_input": "2021-05-29T13:30:02.870352Z",
          "iopub.status.idle": "2021-05-29T13:30:02.884528Z",
          "shell.execute_reply.started": "2021-05-29T13:30:02.870313Z",
          "shell.execute_reply": "2021-05-29T13:30:02.883479Z"
        },
        "trusted": true
      },
      "execution_count": 26,
      "outputs": []
    },
    {
      "cell_type": "markdown",
      "metadata": {
        "id": "Ha9hDt_AoGaE"
      },
      "source": [
        "# Modelling & Model Performance"
      ]
    },
    {
      "cell_type": "code",
      "execution_count": 27,
      "metadata": {
        "id": "5a0_glT7lmlG"
      },
      "outputs": [],
      "source": [
        "import keras\n",
        "from keras.models import Sequential\n",
        "from keras.layers import Dense"
      ]
    },
    {
      "cell_type": "markdown",
      "metadata": {
        "id": "n1Wy0EtOlmlH"
      },
      "source": [
        "## without class_weigth"
      ]
    },
    {
      "cell_type": "markdown",
      "metadata": {
        "id": "Y4DlJ1FrlmlH"
      },
      "source": [
        "### Create The Model"
      ]
    },
    {
      "cell_type": "code",
      "source": [
        "classifier = Sequential()\n",
        "classifier.add(Dense(units=6, kernel_initializer='he_uniform', activation='relu', input_dim=11))\n",
        "classifier.add(Dense(units=6, kernel_initializer='he_uniform', activation='relu'))\n",
        "classifier.add(Dense(units=1, kernel_initializer='glorot_uniform', activation='sigmoid'))\n",
        "#classifier.compile(optimizer='adam', loss='binary_crossentropy', metrics=['accuracy'])\n"
      ],
      "metadata": {
        "id": "jU8YYUzz-TvP"
      },
      "execution_count": 28,
      "outputs": []
    },
    {
      "cell_type": "code",
      "source": [
        "classifier.compile(optimizer = 'adam', loss = 'binary_crossentropy', metrics = ['accuracy'])"
      ],
      "metadata": {
        "id": "edEvQ9owYX15"
      },
      "execution_count": 29,
      "outputs": []
    },
    {
      "cell_type": "code",
      "source": [
        "\n",
        "model_history = classifier.fit(X_train, y_train, batch_size=10, validation_split=0.15, epochs=100)\n"
      ],
      "metadata": {
        "colab": {
          "base_uri": "https://localhost:8080/"
        },
        "id": "hhCdna2qhZG6",
        "outputId": "2731645d-a549-41c6-e120-1d4d499dc391"
      },
      "execution_count": 30,
      "outputs": [
        {
          "output_type": "stream",
          "name": "stdout",
          "text": [
            "Epoch 1/100\n",
            "680/680 [==============================] - 2s 2ms/step - loss: 0.5427 - accuracy: 0.7821 - val_loss: 0.4838 - val_accuracy: 0.7992\n",
            "Epoch 2/100\n",
            "680/680 [==============================] - 1s 2ms/step - loss: 0.4714 - accuracy: 0.7979 - val_loss: 0.4427 - val_accuracy: 0.8158\n",
            "Epoch 3/100\n",
            "680/680 [==============================] - 1s 2ms/step - loss: 0.4452 - accuracy: 0.8060 - val_loss: 0.4193 - val_accuracy: 0.8233\n",
            "Epoch 4/100\n",
            "680/680 [==============================] - 2s 3ms/step - loss: 0.4297 - accuracy: 0.8147 - val_loss: 0.4077 - val_accuracy: 0.8258\n",
            "Epoch 5/100\n",
            "680/680 [==============================] - 1s 2ms/step - loss: 0.4206 - accuracy: 0.8144 - val_loss: 0.3952 - val_accuracy: 0.8292\n",
            "Epoch 6/100\n",
            "680/680 [==============================] - 1s 2ms/step - loss: 0.4090 - accuracy: 0.8240 - val_loss: 0.3836 - val_accuracy: 0.8358\n",
            "Epoch 7/100\n",
            "680/680 [==============================] - 1s 2ms/step - loss: 0.3955 - accuracy: 0.8346 - val_loss: 0.3745 - val_accuracy: 0.8392\n",
            "Epoch 8/100\n",
            "680/680 [==============================] - 1s 2ms/step - loss: 0.3817 - accuracy: 0.8424 - val_loss: 0.3676 - val_accuracy: 0.8483\n",
            "Epoch 9/100\n",
            "680/680 [==============================] - 1s 2ms/step - loss: 0.3722 - accuracy: 0.8463 - val_loss: 0.3613 - val_accuracy: 0.8533\n",
            "Epoch 10/100\n",
            "680/680 [==============================] - 1s 2ms/step - loss: 0.3655 - accuracy: 0.8494 - val_loss: 0.3591 - val_accuracy: 0.8525\n",
            "Epoch 11/100\n",
            "680/680 [==============================] - 1s 2ms/step - loss: 0.3612 - accuracy: 0.8504 - val_loss: 0.3570 - val_accuracy: 0.8558\n",
            "Epoch 12/100\n",
            "680/680 [==============================] - 1s 2ms/step - loss: 0.3582 - accuracy: 0.8519 - val_loss: 0.3562 - val_accuracy: 0.8492\n",
            "Epoch 13/100\n",
            "680/680 [==============================] - 1s 2ms/step - loss: 0.3554 - accuracy: 0.8540 - val_loss: 0.3543 - val_accuracy: 0.8617\n",
            "Epoch 14/100\n",
            "680/680 [==============================] - 1s 2ms/step - loss: 0.3533 - accuracy: 0.8538 - val_loss: 0.3538 - val_accuracy: 0.8517\n",
            "Epoch 15/100\n",
            "680/680 [==============================] - 1s 2ms/step - loss: 0.3509 - accuracy: 0.8565 - val_loss: 0.3533 - val_accuracy: 0.8583\n",
            "Epoch 16/100\n",
            "680/680 [==============================] - 1s 2ms/step - loss: 0.3496 - accuracy: 0.8557 - val_loss: 0.3517 - val_accuracy: 0.8617\n",
            "Epoch 17/100\n",
            "680/680 [==============================] - 1s 2ms/step - loss: 0.3481 - accuracy: 0.8549 - val_loss: 0.3523 - val_accuracy: 0.8575\n",
            "Epoch 18/100\n",
            "680/680 [==============================] - 1s 2ms/step - loss: 0.3474 - accuracy: 0.8578 - val_loss: 0.3504 - val_accuracy: 0.8583\n",
            "Epoch 19/100\n",
            "680/680 [==============================] - 1s 2ms/step - loss: 0.3466 - accuracy: 0.8565 - val_loss: 0.3500 - val_accuracy: 0.8600\n",
            "Epoch 20/100\n",
            "680/680 [==============================] - 1s 2ms/step - loss: 0.3459 - accuracy: 0.8575 - val_loss: 0.3489 - val_accuracy: 0.8567\n",
            "Epoch 21/100\n",
            "680/680 [==============================] - 1s 2ms/step - loss: 0.3453 - accuracy: 0.8590 - val_loss: 0.3489 - val_accuracy: 0.8525\n",
            "Epoch 22/100\n",
            "680/680 [==============================] - 5s 7ms/step - loss: 0.3447 - accuracy: 0.8571 - val_loss: 0.3489 - val_accuracy: 0.8575\n",
            "Epoch 23/100\n",
            "680/680 [==============================] - 1s 2ms/step - loss: 0.3442 - accuracy: 0.8584 - val_loss: 0.3485 - val_accuracy: 0.8575\n",
            "Epoch 24/100\n",
            "680/680 [==============================] - 1s 2ms/step - loss: 0.3441 - accuracy: 0.8606 - val_loss: 0.3484 - val_accuracy: 0.8575\n",
            "Epoch 25/100\n",
            "680/680 [==============================] - 1s 2ms/step - loss: 0.3436 - accuracy: 0.8610 - val_loss: 0.3486 - val_accuracy: 0.8558\n",
            "Epoch 26/100\n",
            "680/680 [==============================] - 1s 2ms/step - loss: 0.3439 - accuracy: 0.8599 - val_loss: 0.3498 - val_accuracy: 0.8558\n",
            "Epoch 27/100\n",
            "680/680 [==============================] - 1s 2ms/step - loss: 0.3433 - accuracy: 0.8615 - val_loss: 0.3498 - val_accuracy: 0.8517\n",
            "Epoch 28/100\n",
            "680/680 [==============================] - 1s 2ms/step - loss: 0.3432 - accuracy: 0.8613 - val_loss: 0.3483 - val_accuracy: 0.8583\n",
            "Epoch 29/100\n",
            "680/680 [==============================] - 1s 2ms/step - loss: 0.3425 - accuracy: 0.8610 - val_loss: 0.3489 - val_accuracy: 0.8567\n",
            "Epoch 30/100\n",
            "680/680 [==============================] - 1s 2ms/step - loss: 0.3423 - accuracy: 0.8597 - val_loss: 0.3492 - val_accuracy: 0.8558\n",
            "Epoch 31/100\n",
            "680/680 [==============================] - 1s 2ms/step - loss: 0.3422 - accuracy: 0.8625 - val_loss: 0.3487 - val_accuracy: 0.8600\n",
            "Epoch 32/100\n",
            "680/680 [==============================] - 1s 2ms/step - loss: 0.3417 - accuracy: 0.8629 - val_loss: 0.3489 - val_accuracy: 0.8575\n",
            "Epoch 33/100\n",
            "680/680 [==============================] - 1s 2ms/step - loss: 0.3416 - accuracy: 0.8600 - val_loss: 0.3503 - val_accuracy: 0.8550\n",
            "Epoch 34/100\n",
            "680/680 [==============================] - 1s 2ms/step - loss: 0.3409 - accuracy: 0.8619 - val_loss: 0.3497 - val_accuracy: 0.8550\n",
            "Epoch 35/100\n",
            "680/680 [==============================] - 1s 2ms/step - loss: 0.3412 - accuracy: 0.8612 - val_loss: 0.3477 - val_accuracy: 0.8608\n",
            "Epoch 36/100\n",
            "680/680 [==============================] - 1s 2ms/step - loss: 0.3410 - accuracy: 0.8628 - val_loss: 0.3467 - val_accuracy: 0.8600\n",
            "Epoch 37/100\n",
            "680/680 [==============================] - 1s 2ms/step - loss: 0.3409 - accuracy: 0.8622 - val_loss: 0.3471 - val_accuracy: 0.8625\n",
            "Epoch 38/100\n",
            "680/680 [==============================] - 1s 2ms/step - loss: 0.3400 - accuracy: 0.8603 - val_loss: 0.3471 - val_accuracy: 0.8575\n",
            "Epoch 39/100\n",
            "680/680 [==============================] - 1s 2ms/step - loss: 0.3405 - accuracy: 0.8631 - val_loss: 0.3479 - val_accuracy: 0.8558\n",
            "Epoch 40/100\n",
            "680/680 [==============================] - 1s 2ms/step - loss: 0.3406 - accuracy: 0.8629 - val_loss: 0.3458 - val_accuracy: 0.8600\n",
            "Epoch 41/100\n",
            "680/680 [==============================] - 1s 2ms/step - loss: 0.3401 - accuracy: 0.8619 - val_loss: 0.3474 - val_accuracy: 0.8550\n",
            "Epoch 42/100\n",
            "680/680 [==============================] - 1s 2ms/step - loss: 0.3397 - accuracy: 0.8615 - val_loss: 0.3466 - val_accuracy: 0.8558\n",
            "Epoch 43/100\n",
            "680/680 [==============================] - 1s 2ms/step - loss: 0.3394 - accuracy: 0.8644 - val_loss: 0.3462 - val_accuracy: 0.8608\n",
            "Epoch 44/100\n",
            "680/680 [==============================] - 1s 2ms/step - loss: 0.3392 - accuracy: 0.8621 - val_loss: 0.3450 - val_accuracy: 0.8583\n",
            "Epoch 45/100\n",
            "680/680 [==============================] - 1s 2ms/step - loss: 0.3398 - accuracy: 0.8641 - val_loss: 0.3452 - val_accuracy: 0.8575\n",
            "Epoch 46/100\n",
            "680/680 [==============================] - 1s 2ms/step - loss: 0.3393 - accuracy: 0.8644 - val_loss: 0.3449 - val_accuracy: 0.8583\n",
            "Epoch 47/100\n",
            "680/680 [==============================] - 1s 2ms/step - loss: 0.3386 - accuracy: 0.8629 - val_loss: 0.3454 - val_accuracy: 0.8583\n",
            "Epoch 48/100\n",
            "680/680 [==============================] - 1s 2ms/step - loss: 0.3385 - accuracy: 0.8634 - val_loss: 0.3461 - val_accuracy: 0.8583\n",
            "Epoch 49/100\n",
            "680/680 [==============================] - 1s 2ms/step - loss: 0.3386 - accuracy: 0.8646 - val_loss: 0.3450 - val_accuracy: 0.8567\n",
            "Epoch 50/100\n",
            "680/680 [==============================] - 1s 2ms/step - loss: 0.3382 - accuracy: 0.8641 - val_loss: 0.3456 - val_accuracy: 0.8600\n",
            "Epoch 51/100\n",
            "680/680 [==============================] - 1s 2ms/step - loss: 0.3384 - accuracy: 0.8622 - val_loss: 0.3446 - val_accuracy: 0.8583\n",
            "Epoch 52/100\n",
            "680/680 [==============================] - 1s 2ms/step - loss: 0.3385 - accuracy: 0.8625 - val_loss: 0.3445 - val_accuracy: 0.8608\n",
            "Epoch 53/100\n",
            "680/680 [==============================] - 1s 2ms/step - loss: 0.3376 - accuracy: 0.8637 - val_loss: 0.3475 - val_accuracy: 0.8567\n",
            "Epoch 54/100\n",
            "680/680 [==============================] - 1s 2ms/step - loss: 0.3378 - accuracy: 0.8649 - val_loss: 0.3454 - val_accuracy: 0.8617\n",
            "Epoch 55/100\n",
            "680/680 [==============================] - 1s 2ms/step - loss: 0.3374 - accuracy: 0.8643 - val_loss: 0.3451 - val_accuracy: 0.8575\n",
            "Epoch 56/100\n",
            "680/680 [==============================] - 1s 2ms/step - loss: 0.3369 - accuracy: 0.8635 - val_loss: 0.3478 - val_accuracy: 0.8583\n",
            "Epoch 57/100\n",
            "680/680 [==============================] - 1s 2ms/step - loss: 0.3372 - accuracy: 0.8641 - val_loss: 0.3451 - val_accuracy: 0.8550\n",
            "Epoch 58/100\n",
            "680/680 [==============================] - 1s 2ms/step - loss: 0.3363 - accuracy: 0.8654 - val_loss: 0.3456 - val_accuracy: 0.8575\n",
            "Epoch 59/100\n",
            "680/680 [==============================] - 1s 2ms/step - loss: 0.3370 - accuracy: 0.8644 - val_loss: 0.3451 - val_accuracy: 0.8575\n",
            "Epoch 60/100\n",
            "680/680 [==============================] - 1s 2ms/step - loss: 0.3360 - accuracy: 0.8634 - val_loss: 0.3464 - val_accuracy: 0.8567\n",
            "Epoch 61/100\n",
            "680/680 [==============================] - 1s 2ms/step - loss: 0.3358 - accuracy: 0.8631 - val_loss: 0.3457 - val_accuracy: 0.8567\n",
            "Epoch 62/100\n",
            "680/680 [==============================] - 1s 2ms/step - loss: 0.3362 - accuracy: 0.8646 - val_loss: 0.3443 - val_accuracy: 0.8575\n",
            "Epoch 63/100\n",
            "680/680 [==============================] - 1s 2ms/step - loss: 0.3356 - accuracy: 0.8631 - val_loss: 0.3448 - val_accuracy: 0.8567\n",
            "Epoch 64/100\n",
            "680/680 [==============================] - 1s 2ms/step - loss: 0.3359 - accuracy: 0.8629 - val_loss: 0.3452 - val_accuracy: 0.8575\n",
            "Epoch 65/100\n",
            "680/680 [==============================] - 1s 2ms/step - loss: 0.3355 - accuracy: 0.8643 - val_loss: 0.3466 - val_accuracy: 0.8575\n",
            "Epoch 66/100\n",
            "680/680 [==============================] - 1s 2ms/step - loss: 0.3358 - accuracy: 0.8634 - val_loss: 0.3463 - val_accuracy: 0.8567\n",
            "Epoch 67/100\n",
            "680/680 [==============================] - 1s 2ms/step - loss: 0.3354 - accuracy: 0.8638 - val_loss: 0.3452 - val_accuracy: 0.8558\n",
            "Epoch 68/100\n",
            "680/680 [==============================] - 1s 2ms/step - loss: 0.3349 - accuracy: 0.8631 - val_loss: 0.3466 - val_accuracy: 0.8600\n",
            "Epoch 69/100\n",
            "680/680 [==============================] - 1s 2ms/step - loss: 0.3353 - accuracy: 0.8631 - val_loss: 0.3465 - val_accuracy: 0.8550\n",
            "Epoch 70/100\n",
            "680/680 [==============================] - 1s 2ms/step - loss: 0.3348 - accuracy: 0.8657 - val_loss: 0.3456 - val_accuracy: 0.8542\n",
            "Epoch 71/100\n",
            "680/680 [==============================] - 1s 2ms/step - loss: 0.3340 - accuracy: 0.8646 - val_loss: 0.3456 - val_accuracy: 0.8542\n",
            "Epoch 72/100\n",
            "680/680 [==============================] - 1s 2ms/step - loss: 0.3345 - accuracy: 0.8640 - val_loss: 0.3458 - val_accuracy: 0.8542\n",
            "Epoch 73/100\n",
            "680/680 [==============================] - 1s 2ms/step - loss: 0.3341 - accuracy: 0.8640 - val_loss: 0.3453 - val_accuracy: 0.8542\n",
            "Epoch 74/100\n",
            "680/680 [==============================] - 1s 2ms/step - loss: 0.3344 - accuracy: 0.8632 - val_loss: 0.3458 - val_accuracy: 0.8600\n",
            "Epoch 75/100\n",
            "680/680 [==============================] - 1s 2ms/step - loss: 0.3340 - accuracy: 0.8660 - val_loss: 0.3463 - val_accuracy: 0.8575\n",
            "Epoch 76/100\n",
            "680/680 [==============================] - 1s 2ms/step - loss: 0.3335 - accuracy: 0.8654 - val_loss: 0.3475 - val_accuracy: 0.8575\n",
            "Epoch 77/100\n",
            "680/680 [==============================] - 1s 2ms/step - loss: 0.3332 - accuracy: 0.8643 - val_loss: 0.3458 - val_accuracy: 0.8575\n",
            "Epoch 78/100\n",
            "680/680 [==============================] - 1s 2ms/step - loss: 0.3336 - accuracy: 0.8640 - val_loss: 0.3453 - val_accuracy: 0.8600\n",
            "Epoch 79/100\n",
            "680/680 [==============================] - 1s 2ms/step - loss: 0.3336 - accuracy: 0.8629 - val_loss: 0.3459 - val_accuracy: 0.8592\n",
            "Epoch 80/100\n",
            "680/680 [==============================] - 1s 2ms/step - loss: 0.3339 - accuracy: 0.8635 - val_loss: 0.3454 - val_accuracy: 0.8567\n",
            "Epoch 81/100\n",
            "680/680 [==============================] - 1s 2ms/step - loss: 0.3329 - accuracy: 0.8651 - val_loss: 0.3457 - val_accuracy: 0.8575\n",
            "Epoch 82/100\n",
            "680/680 [==============================] - 1s 2ms/step - loss: 0.3333 - accuracy: 0.8654 - val_loss: 0.3446 - val_accuracy: 0.8592\n",
            "Epoch 83/100\n",
            "680/680 [==============================] - 1s 2ms/step - loss: 0.3323 - accuracy: 0.8662 - val_loss: 0.3453 - val_accuracy: 0.8642\n",
            "Epoch 84/100\n",
            "680/680 [==============================] - 1s 2ms/step - loss: 0.3328 - accuracy: 0.8654 - val_loss: 0.3458 - val_accuracy: 0.8550\n",
            "Epoch 85/100\n",
            "680/680 [==============================] - 1s 2ms/step - loss: 0.3328 - accuracy: 0.8646 - val_loss: 0.3457 - val_accuracy: 0.8567\n",
            "Epoch 86/100\n",
            "680/680 [==============================] - 1s 2ms/step - loss: 0.3321 - accuracy: 0.8641 - val_loss: 0.3457 - val_accuracy: 0.8592\n",
            "Epoch 87/100\n",
            "680/680 [==============================] - 1s 2ms/step - loss: 0.3328 - accuracy: 0.8644 - val_loss: 0.3466 - val_accuracy: 0.8533\n",
            "Epoch 88/100\n",
            "680/680 [==============================] - 1s 2ms/step - loss: 0.3324 - accuracy: 0.8629 - val_loss: 0.3471 - val_accuracy: 0.8492\n",
            "Epoch 89/100\n",
            "680/680 [==============================] - 1s 2ms/step - loss: 0.3329 - accuracy: 0.8641 - val_loss: 0.3442 - val_accuracy: 0.8550\n",
            "Epoch 90/100\n",
            "680/680 [==============================] - 1s 2ms/step - loss: 0.3327 - accuracy: 0.8638 - val_loss: 0.3436 - val_accuracy: 0.8583\n",
            "Epoch 91/100\n",
            "680/680 [==============================] - 1s 2ms/step - loss: 0.3326 - accuracy: 0.8629 - val_loss: 0.3446 - val_accuracy: 0.8558\n",
            "Epoch 92/100\n",
            "680/680 [==============================] - 1s 2ms/step - loss: 0.3321 - accuracy: 0.8641 - val_loss: 0.3450 - val_accuracy: 0.8567\n",
            "Epoch 93/100\n",
            "680/680 [==============================] - 1s 2ms/step - loss: 0.3330 - accuracy: 0.8640 - val_loss: 0.3452 - val_accuracy: 0.8558\n",
            "Epoch 94/100\n",
            "680/680 [==============================] - 1s 2ms/step - loss: 0.3320 - accuracy: 0.8650 - val_loss: 0.3473 - val_accuracy: 0.8533\n",
            "Epoch 95/100\n",
            "680/680 [==============================] - 1s 2ms/step - loss: 0.3322 - accuracy: 0.8647 - val_loss: 0.3454 - val_accuracy: 0.8583\n",
            "Epoch 96/100\n",
            "680/680 [==============================] - 1s 2ms/step - loss: 0.3322 - accuracy: 0.8665 - val_loss: 0.3439 - val_accuracy: 0.8592\n",
            "Epoch 97/100\n",
            "680/680 [==============================] - 1s 2ms/step - loss: 0.3321 - accuracy: 0.8635 - val_loss: 0.3450 - val_accuracy: 0.8592\n",
            "Epoch 98/100\n",
            "680/680 [==============================] - 1s 2ms/step - loss: 0.3319 - accuracy: 0.8653 - val_loss: 0.3489 - val_accuracy: 0.8567\n",
            "Epoch 99/100\n",
            "680/680 [==============================] - 1s 2ms/step - loss: 0.3324 - accuracy: 0.8660 - val_loss: 0.3460 - val_accuracy: 0.8567\n",
            "Epoch 100/100\n",
            "680/680 [==============================] - 1s 2ms/step - loss: 0.3315 - accuracy: 0.8669 - val_loss: 0.3462 - val_accuracy: 0.8550\n"
          ]
        }
      ]
    },
    {
      "cell_type": "code",
      "source": [],
      "metadata": {
        "id": "yhfeKEtW-fRj"
      },
      "execution_count": 30,
      "outputs": []
    },
    {
      "cell_type": "markdown",
      "metadata": {
        "id": "0KOUwKKHlmlH"
      },
      "source": [
        "### Evaluate The Model\n",
        "\n",
        "- Plot the model history to observe the changing of metrics\n",
        "- Make prediction to see \"confusion matrix\" and \"classification report\"\n",
        "- Check ROC (Receiver Operating Curve) and AUC (Area Under Curve) for the model"
      ]
    },
    {
      "cell_type": "code",
      "source": [
        "model_history.history.keys()"
      ],
      "metadata": {
        "colab": {
          "base_uri": "https://localhost:8080/"
        },
        "id": "1gO2oIHx-eh0",
        "outputId": "961284db-c1c2-4bc0-edbe-8e44f668cf2f"
      },
      "execution_count": 31,
      "outputs": [
        {
          "output_type": "execute_result",
          "data": {
            "text/plain": [
              "dict_keys(['loss', 'accuracy', 'val_loss', 'val_accuracy'])"
            ]
          },
          "metadata": {},
          "execution_count": 31
        }
      ]
    },
    {
      "cell_type": "code",
      "source": [
        "plt.figure(figsize=(8,6))\n",
        "plt.plot(model_history.history['accuracy'])\n",
        "plt.plot(model_history.history['val_accuracy'])\n",
        "plt.title('Model Accuracy')\n",
        "plt.ylabel('Accuracy')\n",
        "plt.xlabel('Epoch')\n",
        "plt.legend(['Train', 'Test'])\n",
        "plt.show();"
      ],
      "metadata": {
        "id": "rPUfdDO6-SMe",
        "colab": {
          "base_uri": "https://localhost:8080/",
          "height": 404
        },
        "outputId": "301ba795-9f74-4987-b2ce-14b1c5c96429"
      },
      "execution_count": 32,
      "outputs": [
        {
          "output_type": "display_data",
          "data": {
            "text/plain": [
              "<Figure size 576x432 with 1 Axes>"
            ],
            "image/png": "[encoded data removed]"
          },
          "metadata": {
            "needs_background": "light"
          }
        }
      ]
    },
    {
      "cell_type": "code",
      "execution_count": 33,
      "metadata": {
        "id": "p7PvMKQflmlH",
        "colab": {
          "base_uri": "https://localhost:8080/",
          "height": 404
        },
        "outputId": "bc321a99-9ca3-49ba-91c6-9c125296ea87"
      },
      "outputs": [
        {
          "output_type": "display_data",
          "data": {
            "text/plain": [
              "<Figure size 576x432 with 1 Axes>"
            ],
            "image/png": "[encoded data removed]"
          },
          "metadata": {
            "needs_background": "light"
          }
        }
      ],
      "source": [
        "plt.figure(figsize=(8,6))\n",
        "plt.plot(model_history.history['loss'])\n",
        "plt.plot(model_history.history['val_loss'])\n",
        "plt.title('Model Loss')\n",
        "plt.ylabel('Loss')\n",
        "plt.xlabel('Epoch')\n",
        "plt.legend(['Train', 'Test'])\n",
        "plt.show();"
      ]
    },
    {
      "cell_type": "code",
      "execution_count": 33,
      "metadata": {
        "id": "bM2urAZXlmlH"
      },
      "outputs": [],
      "source": []
    },
    {
      "cell_type": "markdown",
      "metadata": {
        "id": "TqG_sSIdlmlH"
      },
      "source": [
        "## with class_weigth\n",
        "\n",
        "Investigate how the \"class_weight\" hyper-parameter is used in a Neural Network."
      ]
    },
    {
      "cell_type": "markdown",
      "metadata": {
        "id": "pJtTbt_9lmlH"
      },
      "source": [
        "### Create The Model"
      ]
    },
    {
      "cell_type": "code",
      "execution_count": 33,
      "metadata": {
        "id": "_daJ-gMilmlH"
      },
      "outputs": [],
      "source": []
    },
    {
      "cell_type": "markdown",
      "metadata": {
        "id": "YPCcqzHzlmlH"
      },
      "source": [
        "### Evaluate The Model\n",
        "\n",
        "- Plot the model history to observe the changing of metrics\n",
        "- Make prediction to see \"confusion matrix\" and \"classification report\"\n",
        "- Check ROC (Receiver Operating Curve) and AUC (Area Under Curve) for the model"
      ]
    },
    {
      "cell_type": "code",
      "execution_count": 34,
      "metadata": {
        "id": "kZDOu74tlmlI",
        "colab": {
          "base_uri": "https://localhost:8080/"
        },
        "outputId": "8a99a73c-17cb-4114-8c0b-793907cc19c8"
      },
      "outputs": [
        {
          "output_type": "stream",
          "name": "stdout",
          "text": [
            "63/63 [==============================] - 0s 1ms/step\n"
          ]
        }
      ],
      "source": [
        "y_pred = classifier.predict(X_test)"
      ]
    },
    {
      "cell_type": "code",
      "source": [
        "y_pred"
      ],
      "metadata": {
        "colab": {
          "base_uri": "https://localhost:8080/"
        },
        "id": "7wdnhroSH0dZ",
        "outputId": "cd54b6e3-27b6-484c-fb61-3f493c2501a2"
      },
      "execution_count": 35,
      "outputs": [
        {
          "output_type": "execute_result",
          "data": {
            "text/plain": [
              "array([[0.26233083],\n",
              "       [0.2510126 ],\n",
              "       [0.13255288],\n",
              "       ...,\n",
              "       [0.12861568],\n",
              "       [0.14004123],\n",
              "       [0.142547  ]], dtype=float32)"
            ]
          },
          "metadata": {},
          "execution_count": 35
        }
      ]
    },
    {
      "cell_type": "code",
      "source": [
        "y_pred = (y_pred > 0.5)\n",
        "y_pred"
      ],
      "metadata": {
        "colab": {
          "base_uri": "https://localhost:8080/"
        },
        "id": "vpKtdSunJdxO",
        "outputId": "eae9ede8-389b-44bd-fc95-aef0d267b1cd"
      },
      "execution_count": 36,
      "outputs": [
        {
          "output_type": "execute_result",
          "data": {
            "text/plain": [
              "array([[False],\n",
              "       [False],\n",
              "       [False],\n",
              "       ...,\n",
              "       [False],\n",
              "       [False],\n",
              "       [False]])"
            ]
          },
          "metadata": {},
          "execution_count": 36
        }
      ]
    },
    {
      "cell_type": "code",
      "source": [
        "from sklearn.metrics import confusion_matrix\n",
        "cm = confusion_matrix(y_test, y_pred)\n",
        "cm"
      ],
      "metadata": {
        "colab": {
          "base_uri": "https://localhost:8080/"
        },
        "id": "FDrR2nOGH0v3",
        "outputId": "fcdf67c6-3fe4-4827-c3cf-359658c3a9e5"
      },
      "execution_count": 37,
      "outputs": [
        {
          "output_type": "execute_result",
          "data": {
            "text/plain": [
              "array([[1529,   66],\n",
              "       [ 207,  198]])"
            ]
          },
          "metadata": {},
          "execution_count": 37
        }
      ]
    },
    {
      "cell_type": "markdown",
      "metadata": {
        "id": "RdWa5lMOlmlI"
      },
      "source": [
        "## Implementation Different Methods to Develop The Model\n",
        "\n",
        "- Implement the following methods on model creating with \"class_weight\" parameter\n",
        "- Create and evaluate model for each method "
      ]
    },
    {
      "cell_type": "markdown",
      "metadata": {
        "id": "--v-GLGjlmlI"
      },
      "source": [
        "### Increase The Learning Rate and Observe The Results"
      ]
    },
    {
      "cell_type": "code",
      "execution_count": 37,
      "metadata": {
        "id": "L0BYvA5KlmlI"
      },
      "outputs": [],
      "source": []
    },
    {
      "cell_type": "markdown",
      "metadata": {
        "id": "6cqLva_tlmlI"
      },
      "source": [
        "### Add Dropout Layer"
      ]
    },
    {
      "cell_type": "code",
      "execution_count": 37,
      "metadata": {
        "id": "MMfwqM4flmlI"
      },
      "outputs": [],
      "source": []
    },
    {
      "cell_type": "markdown",
      "metadata": {
        "id": "dLG4OQfilmlI"
      },
      "source": [
        "### Add Early Stop"
      ]
    },
    {
      "cell_type": "markdown",
      "metadata": {
        "id": "hSlN_YfUlmlI"
      },
      "source": [
        "#### Monitor the \"val_loss\" as metric"
      ]
    },
    {
      "cell_type": "code",
      "execution_count": 37,
      "metadata": {
        "id": "Fjwd4hJslmlI"
      },
      "outputs": [],
      "source": []
    },
    {
      "cell_type": "markdown",
      "metadata": {
        "id": "R-2qSA-flmlI"
      },
      "source": [
        "#### Monitor the \"val_recall\" as metric"
      ]
    },
    {
      "cell_type": "code",
      "execution_count": 37,
      "metadata": {
        "id": "9hLIGa3PlmlI"
      },
      "outputs": [],
      "source": []
    },
    {
      "cell_type": "markdown",
      "metadata": {
        "id": "Nf5efACwlmlI"
      },
      "source": [
        "## GridSearchCV"
      ]
    },
    {
      "cell_type": "code",
      "execution_count": 38,
      "metadata": {
        "id": "dhU3tcJLlmlI"
      },
      "outputs": [],
      "source": [
        "from matplotlib import pyplot as plt\n",
        "import seaborn as sns"
      ]
    },
    {
      "cell_type": "markdown",
      "metadata": {
        "id": "a5SLs7qelmlI"
      },
      "source": [
        "### Evaluate The Model\n",
        "\n",
        "- Plot the model history to observe the changing of metrics\n",
        "- Make prediction to see \"confusion matrix\" and \"classification report\"\n",
        "- Check ROC (Receiver Operating Curve) and AUC (Area Under Curve) for the model"
      ]
    },
    {
      "cell_type": "code",
      "execution_count": 39,
      "metadata": {
        "id": "dJSqYzyUlmlJ",
        "colab": {
          "base_uri": "https://localhost:8080/",
          "height": 404
        },
        "outputId": "505403a7-cbbc-484a-d024-637b99df7220"
      },
      "outputs": [
        {
          "output_type": "display_data",
          "data": {
            "text/plain": [
              "<Figure size 576x432 with 2 Axes>"
            ],
            "image/png": "[encoded data removed]"
          },
          "metadata": {
            "needs_background": "light"
          }
        }
      ],
      "source": [
        "plt.figure(figsize=(8,6))\n",
        "sns.heatmap(cm, cmap='Blues', annot=True, xticklabels=['Did not Exit', 'Exit'], yticklabels=['Did not Exit', 'Exit'])\n",
        "plt.xlabel('Predicted values')\n",
        "plt.ylabel('Actual values')\n",
        "plt.title('Confusion Matrix for ANN model')\n",
        "plt.show()"
      ]
    },
    {
      "cell_type": "markdown",
      "metadata": {
        "id": "nrShKQJclmlJ"
      },
      "source": [
        "# Final Model and Model Deployment"
      ]
    },
    {
      "cell_type": "code",
      "execution_count": 40,
      "metadata": {
        "id": "cXzxPujflmlJ",
        "colab": {
          "base_uri": "https://localhost:8080/"
        },
        "outputId": "9dd504cb-00c3-4623-fb52-9e1615428323"
      },
      "outputs": [
        {
          "output_type": "execute_result",
          "data": {
            "text/plain": [
              "0.8635"
            ]
          },
          "metadata": {},
          "execution_count": 40
        }
      ],
      "source": [
        "from sklearn.metrics import accuracy_score\n",
        "score = accuracy_score(y_pred,y_test)\n",
        "score"
      ]
    },
    {
      "cell_type": "code",
      "source": [
        "def predict_exit(sample_value):\n",
        "  \n",
        "  sample_value = np.array(sample_value)\n",
        "\n",
        "  sample_value = sample_value.reshape(1, -1)\n",
        "\n",
        "  sample_value = sc.transform(sample_value)\n",
        "\n",
        "  return classifier.predict(sample_value)"
      ],
      "metadata": {
        "id": "K1Soiud738M4"
      },
      "execution_count": 41,
      "outputs": []
    },
    {
      "cell_type": "code",
      "source": [
        "sample_value = [738, 62, 10, 83008.31, 1, 1, 1, 42766.03, 1, 0, 1]\n",
        "if predict_exit(sample_value)>0.5:\n",
        "  print('Prediction: High change of exit!')\n",
        "else:\n",
        "  print('Prediction: Low change of exit.')"
      ],
      "metadata": {
        "colab": {
          "base_uri": "https://localhost:8080/"
        },
        "id": "pbg8L9jQ38WS",
        "outputId": "f0f5d53d-c2db-4ce6-d082-dd4ec82f7893"
      },
      "execution_count": 42,
      "outputs": [
        {
          "output_type": "stream",
          "name": "stdout",
          "text": [
            "1/1 [==============================] - 0s 21ms/step\n",
            "Prediction: Low change of exit.\n"
          ]
        },
        {
          "output_type": "stream",
          "name": "stderr",
          "text": [
            "/usr/local/lib/python3.8/dist-packages/sklearn/base.py:450: UserWarning: X does not have valid feature names, but StandardScaler was fitted with feature names\n",
            "  warnings.warn(\n"
          ]
        }
      ]
    },
    {
      "cell_type": "code",
      "source": [
        "sample_value = [805, 45, 9, 116585.97, 1, 1, 0, 189428.75, 1, 0, 0]\n",
        "if predict_exit(sample_value)>0.5:\n",
        "  print('Prediction: High change of exit!')\n",
        "else:\n",
        "  print('Prediction: Low change of exit.')"
      ],
      "metadata": {
        "colab": {
          "base_uri": "https://localhost:8080/"
        },
        "id": "PvfSOprK6sHo",
        "outputId": "2726e668-40cc-4f3e-9942-923251b8641b"
      },
      "execution_count": 43,
      "outputs": [
        {
          "output_type": "stream",
          "name": "stderr",
          "text": [
            "/usr/local/lib/python3.8/dist-packages/sklearn/base.py:450: UserWarning: X does not have valid feature names, but StandardScaler was fitted with feature names\n",
            "  warnings.warn(\n"
          ]
        },
        {
          "output_type": "stream",
          "name": "stdout",
          "text": [
            "1/1 [==============================] - 0s 109ms/step\n",
            "Prediction: High change of exit!\n"
          ]
        }
      ]
    },
    {
      "cell_type": "markdown",
      "metadata": {
        "id": "Cq10ovAX6daY"
      },
      "source": [
        "## Prediction"
      ]
    },
    {
      "cell_type": "code",
      "execution_count": 40,
      "metadata": {
        "id": "NHeJnwj1lmlJ"
      },
      "outputs": [],
      "source": []
    },
    {
      "cell_type": "markdown",
      "metadata": {
        "id": "iH7BUHd4lmlJ"
      },
      "source": [
        "___\n",
        "\n",
        "<p style=\"text-align: center;\"><img src=\"https://docs.google.com/uc?id=1lY0Uj5R04yMY3-ZppPWxqCr5pvBLYPnV\" class=\"img-fluid\" alt=\"CLRSWY\"></p>\n",
        "\n",
        "___"
      ]
    }
  ],
  "metadata": {
    "colab": {
      "provenance": []
    },
    "kernelspec": {
      "display_name": "Python 3",
      "language": "python",
      "name": "python3"
    },
    "language_info": {
      "codemirror_mode": {
        "name": "ipython",
        "version": 3
      },
      "file_extension": ".py",
      "mimetype": "text/x-python",
      "name": "python",
      "nbconvert_exporter": "python",
      "pygments_lexer": "ipython3",
      "version": "3.7.6"
    },
    "toc": {
      "base_numbering": 1,
      "nav_menu": {},
      "number_sections": false,
      "sideBar": true,
      "skip_h1_title": false,
      "title_cell": "Table of Contents",
      "title_sidebar": "Contents",
      "toc_cell": false,
      "toc_position": {},
      "toc_section_display": true,
      "toc_window_display": true
    }
  },
  "nbformat": 4,
  "nbformat_minor": 0
}